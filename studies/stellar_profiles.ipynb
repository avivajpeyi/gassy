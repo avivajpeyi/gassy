{
 "cells": [
  {
   "cell_type": "markdown",
   "source": [],
   "metadata": {
    "collapsed": false
   }
  },
  {
   "cell_type": "markdown",
   "source": [
    "The main sequence profile for a Lane-emden polytropic star (given the mass, radius and n)\n",
    "\n",
    "Profile consists of the following:\n",
    " - central pressure, density, the constant of proportionality K and the scale length ($r_{n}$).\n",
    "\n",
    "The formulas listed are derived and discussed in this\n",
    "[book](https://link.springer.com/book/10.1007/978-1-4419-9110-2):\n",
    "\n",
    "$$P_c = \\frac{8.952e+14}{(n+1)(\\theta'_{n})^2_{\\xi_1}}\\left(\\frac{M}{M_\\odot}\\right)^2\\left(\\frac{R}{R_\\odot}\\right)^{-4}dyne.cm^{-2}$$\n",
    "\n",
    "$$K = \\frac{G}{n+1}M^{1-1/n}R^{-1+3/n}\\left(\\frac{4\\pi}{\\\\xi_1^{n+1}(-\\theta'_n\\Bigr|_{\\xi_1})^{n-1}}\\right)^{1/n}$$\n",
    "\n",
    "$$\\rho_c = \\left(\\frac{P_c}{K}\\right)^{\\frac{n}{n+1}} g/cc$$\n",
    "$$r_n = \\sqrt{\\frac{(n+1)P_c}{4\\pi G\\rho_c^2}}$$\n",
    "\n",
    "We can use the dimensionless definitions used to derive the Lane-Emden equation to determine the density and pressure profiles\n",
    "$$P = P_{c} \\theta_{n}^{n+1}$$\n",
    "$$ \\rho = \\rho_{c}\\theta_{n}^{n}$$\n",
    "\n",
    "To get the mass profile in terms of the polytrope, we separate variables in the mass continuity equation and\n",
    "substitute the polytropic properties where applicable\n",
    "$$\\frac{dM}{dr} = 4\\pi r^{2}\\rho$$\n",
    "$$dM = 4\\pi r^{2} \\rho dr$$\n",
    "$$M(r) = 4\\pi \\int_{0}^{R} r^{2}\\rho dr$$\n",
    "$$M(\\xi) = 4\\pi r_n^3 \\rho_c (-\\xi^2\\theta'_n\\Bigr|_\\xi)$$"
   ],
   "metadata": {
    "collapsed": false
   }
  }
 ],
 "metadata": {
  "kernelspec": {
   "display_name": "Python 3",
   "language": "python",
   "name": "python3"
  },
  "language_info": {
   "codemirror_mode": {
    "name": "ipython",
    "version": 2
   },
   "file_extension": ".py",
   "mimetype": "text/x-python",
   "name": "python",
   "nbconvert_exporter": "python",
   "pygments_lexer": "ipython2",
   "version": "2.7.6"
  }
 },
 "nbformat": 4,
 "nbformat_minor": 0
}
